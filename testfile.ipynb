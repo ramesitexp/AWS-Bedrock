{
  "nbformat": 4,
  "nbformat_minor": 0,
  "metadata": {
    "colab": {
      "provenance": [],
      "toc_visible": true,
      "authorship_tag": "ABX9TyOoOQpCHGXaUhRnBorogRUI",
      "include_colab_link": true
    },
    "kernelspec": {
      "name": "python3",
      "display_name": "Python 3"
    },
    "language_info": {
      "name": "python"
    }
  },
  "cells": [
    {
      "cell_type": "markdown",
      "metadata": {
        "id": "view-in-github",
        "colab_type": "text"
      },
      "source": [
        "<a href=\"https://colab.research.google.com/github/ramesitexp/AWS-Bedrock/blob/main/testfile.ipynb\" target=\"_parent\"><img src=\"https://colab.research.google.com/assets/colab-badge.svg\" alt=\"Open In Colab\"/></a>"
      ]
    },
    {
      "cell_type": "code",
      "execution_count": null,
      "metadata": {
        "id": "nGf0WLqCjuRA"
      },
      "outputs": [],
      "source": [
        "pip install azure-storage-blob azure-identity\n"
      ]
    },
    {
      "cell_type": "code",
      "source": [
        "import os, uuid\n",
        "from azure.identity import DefaultAzureCredential\n",
        "from azure.storage.blob import BlobServiceClient, BlobClient, ContainerClient\n",
        "\n",
        "try:\n",
        "    print(\"Azure Blob Storage Python quickstart sample\")\n",
        "\n",
        "    # Quickstart code goes here\n",
        "\n",
        "except Exception as ex:\n",
        "    print('Exception:')\n",
        "    print(ex)"
      ],
      "metadata": {
        "id": "NHOUGq2WktNA"
      },
      "execution_count": null,
      "outputs": []
    },
    {
      "cell_type": "code",
      "source": [
        "![image.png](attachment:image.png)"
      ],
      "metadata": {
        "colab": {
          "base_uri": "https://localhost:8080/"
        },
        "id": "mmV44RKrktKT",
        "outputId": "c34c3457-3195-4590-d082-34c9002f659d"
      },
      "execution_count": null,
      "outputs": [
        {
          "output_type": "stream",
          "name": "stdout",
          "text": [
            "/bin/bash: -c: line 1: syntax error near unexpected token `attachment:image.png'\n",
            "/bin/bash: -c: line 1: `[image.png](attachment:image.png)'\n"
          ]
        }
      ]
    },
    {
      "cell_type": "code",
      "source": [
        "BlobServiceClient: The BlobServiceClient class allows you to manipulate Azure Storage resources and blob containers.\n",
        "ContainerClient: The ContainerClient class allows you to manipulate Azure Storage containers and their blobs.\n",
        "BlobClient: The BlobClient class allows you to manipulate Azure Storage blobs."
      ],
      "metadata": {
        "id": "qMQ6fHN8ktHq"
      },
      "execution_count": null,
      "outputs": []
    },
    {
      "cell_type": "code",
      "source": [
        "from azure.identity import DefaultAzureCredential\n",
        "from azure.storage.blob import BlobServiceClient"
      ],
      "metadata": {
        "id": "HwgtmfrEktEz"
      },
      "execution_count": null,
      "outputs": []
    },
    {
      "cell_type": "code",
      "source": [
        "account_url = \"https://contosstorageaccount.blob.core.windows.net\"\n",
        "default_credential = DefaultAzureCredential()\n",
        "\n",
        "# Create the BlobServiceClient object\n",
        "blob_service_client = BlobServiceClient(account_url, credential=default_credential)"
      ],
      "metadata": {
        "id": "GWdYK5PnktCP"
      },
      "execution_count": null,
      "outputs": []
    },
    {
      "cell_type": "code",
      "source": [
        "from azure.identity import AzureCliCredential\n",
        "from azure.storage.blob import BlobServiceClient\n",
        "import os, uuid\n",
        "\n",
        "\n",
        "\n",
        "# Use AzureCliCredential for authentication\n",
        "credential = AzureCliCredential()\n",
        "\n",
        "# Construct the Blob Service Client\n",
        "blob_service_client = BlobServiceClient(\n",
        "account_url = \"https://contosstorageaccount.blob.core.windows.net\", credential=credential)"
      ],
      "metadata": {
        "id": "KLleEwD7ks_P"
      },
      "execution_count": null,
      "outputs": []
    },
    {
      "cell_type": "code",
      "source": [
        "# Create a unique name for the container\n",
        "container_name = str(uuid.uuid4())\n",
        "print(container_name)\n",
        "\n",
        "# Create the container\n",
        "container_client = blob_service_client.create_container(container_name)"
      ],
      "metadata": {
        "id": "zFBhG0N6ks8h"
      },
      "execution_count": null,
      "outputs": []
    },
    {
      "cell_type": "code",
      "source": [
        "# Create a local directory to hold blob data\n",
        "local_path = \"./data1\"\n",
        "os.mkdir(local_path)\n",
        "\n",
        "# Create a file in the local data directory to upload and download\n",
        "local_file_name = str(uuid.uuid4()) + \".txt\"\n",
        "upload_file_path = os.path.join(local_path, local_file_name)\n",
        "\n",
        "# Write text to the file\n",
        "file = open(file=upload_file_path, mode='w')\n",
        "file.write(\"Hello, World!\")\n",
        "file.close()\n",
        "\n",
        "# Create a blob client using the local file name as the name for the blob\n",
        "blob_client = blob_service_client.get_blob_client(container=container_name, blob=local_file_name)\n",
        "\n",
        "print(\"\\nUploading to Azure Storage as blob:\\n\\t\" + local_file_name)\n",
        "\n",
        "# Upload the created file\n",
        "with open(file=upload_file_path, mode=\"rb\") as data:\n",
        "    blob_client.upload_blob(data)"
      ],
      "metadata": {
        "id": "3c6FEIygks5g"
      },
      "execution_count": null,
      "outputs": []
    },
    {
      "cell_type": "code",
      "source": [
        "print(\"\\nListing blobs...\")\n",
        "\n",
        "# List the blobs in the container\n",
        "blob_list = container_client.list_blobs()\n",
        "for blob in blob_list:\n",
        "    print(\"\\t\" + str(blob.name))"
      ],
      "metadata": {
        "id": "NDANK9XCks2o"
      },
      "execution_count": null,
      "outputs": []
    },
    {
      "cell_type": "code",
      "source": [
        "# Download the blob to a local file\n",
        "# Add 'DOWNLOAD' before the .txt extension so you can see both files in the data directory\n",
        "download_file_path = os.path.join(local_path, str.replace(local_file_name ,'.txt', 'DOWNLOAD.txt'))\n",
        "container_client = blob_service_client.get_container_client(container= container_name)\n",
        "print(\"\\nDownloading blob to \\n\\t\" + download_file_path)\n",
        "\n",
        "with open(file=download_file_path, mode=\"wb\") as download_file:\n",
        " download_file.write(container_client.download_blob(blob.name).readall())"
      ],
      "metadata": {
        "id": "1kNtmlzikszo"
      },
      "execution_count": null,
      "outputs": []
    },
    {
      "cell_type": "code",
      "source": [
        "# Clean up\n",
        "print(\"\\nPress the Enter key to begin clean up\")\n",
        "input()\n",
        "\n",
        "print(\"Deleting blob container...\")\n",
        "container_client.delete_container()\n",
        "\n",
        "print(\"Deleting the local source and downloaded files...\")\n",
        "os.remove(upload_file_path)\n",
        "os.remove(download_file_path)\n",
        "# os.rmdir(local_path)\n",
        "\n",
        "print(\"Done\")2"
      ],
      "metadata": {
        "id": "D28hjWfilAZn"
      },
      "execution_count": null,
      "outputs": []
    },
    {
      "cell_type": "code",
      "source": [],
      "metadata": {
        "id": "_xCrxj6ClAWp"
      },
      "execution_count": null,
      "outputs": []
    },
    {
      "cell_type": "code",
      "source": [],
      "metadata": {
        "id": "h_3gy9ptlAT_"
      },
      "execution_count": null,
      "outputs": []
    },
    {
      "cell_type": "code",
      "source": [],
      "metadata": {
        "id": "OTslAfsklARM"
      },
      "execution_count": null,
      "outputs": []
    },
    {
      "cell_type": "code",
      "source": [],
      "metadata": {
        "id": "onBKAwOalAOU"
      },
      "execution_count": null,
      "outputs": []
    },
    {
      "cell_type": "code",
      "source": [],
      "metadata": {
        "id": "PDihYi4alAKu"
      },
      "execution_count": null,
      "outputs": []
    }
  ]
}